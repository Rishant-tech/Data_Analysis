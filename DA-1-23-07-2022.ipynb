{
 "cells": [
  {
   "cell_type": "code",
   "execution_count": 1,
   "id": "bfa4275f",
   "metadata": {},
   "outputs": [],
   "source": [
    "# pre-requisutes\n",
    "\n",
    "\n",
    "# 1- python\n",
    "# 2- maths(11-12)\n",
    "# 3-stats(mean median  mode)\n",
    "\n",
    "\n",
    "\n",
    "# data?\n",
    "\n",
    "# everything is a data\n",
    "\n"
   ]
  },
  {
   "cell_type": "code",
   "execution_count": 2,
   "id": "2631ef15",
   "metadata": {},
   "outputs": [],
   "source": [
    "# analysis\n",
    "\n",
    "# anlysing the things and finding the insights\n",
    "\n"
   ]
  },
  {
   "cell_type": "code",
   "execution_count": 6,
   "id": "2bd3bc72",
   "metadata": {},
   "outputs": [],
   "source": [
    "# to study\n",
    " \n",
    "# four libraries\n",
    "\n",
    "# numpy\n",
    "# pandas\n",
    "# matplotlib\n",
    "# seaborn\n",
    "\n",
    "# numpy-------->   numerical python\n",
    "# array, matrix,  transpose\n",
    "# used in AI--- openCV\n",
    "\n",
    "\n",
    "\n",
    "# pandas----------> panel data\n",
    "\n",
    "# numpy& pandas----- data analysis lib\n",
    "\n",
    "# matplotlib-----> mathematical ploting library\n",
    "\n",
    "# seaborn----> based on matplotlib\n",
    "# data visualization using stats\n",
    "# tells data flow--> behaviour\n",
    "\n",
    "\n"
   ]
  },
  {
   "cell_type": "markdown",
   "id": "24d61f4c",
   "metadata": {},
   "source": [
    "# Numpy"
   ]
  },
  {
   "cell_type": "code",
   "execution_count": 7,
   "id": "0f4629d1",
   "metadata": {},
   "outputs": [],
   "source": [
    "import numpy as np"
   ]
  },
  {
   "cell_type": "code",
   "execution_count": 8,
   "id": "e8061106",
   "metadata": {},
   "outputs": [
    {
     "ename": "TypeError",
     "evalue": "array() missing required argument 'object' (pos 0)",
     "output_type": "error",
     "traceback": [
      "\u001b[1;31m---------------------------------------------------------------------------\u001b[0m",
      "\u001b[1;31mTypeError\u001b[0m                                 Traceback (most recent call last)",
      "Input \u001b[1;32mIn [8]\u001b[0m, in \u001b[0;36m<cell line: 4>\u001b[1;34m()\u001b[0m\n\u001b[0;32m      1\u001b[0m \u001b[38;5;66;03m# create arrays\u001b[39;00m\n\u001b[1;32m----> 4\u001b[0m \u001b[43mnp\u001b[49m\u001b[38;5;241;43m.\u001b[39;49m\u001b[43marray\u001b[49m\u001b[43m(\u001b[49m\u001b[43m)\u001b[49m\n",
      "\u001b[1;31mTypeError\u001b[0m: array() missing required argument 'object' (pos 0)"
     ]
    }
   ],
   "source": [
    "# create arrays\n",
    "\n",
    "\n",
    "np.array()"
   ]
  },
  {
   "cell_type": "code",
   "execution_count": 10,
   "id": "bdc40e99",
   "metadata": {},
   "outputs": [],
   "source": [
    "arr=np.array([1,23,4,5,6,6,7,8])"
   ]
  },
  {
   "cell_type": "code",
   "execution_count": 11,
   "id": "d735cba6",
   "metadata": {},
   "outputs": [
    {
     "data": {
      "text/plain": [
       "numpy.ndarray"
      ]
     },
     "execution_count": 11,
     "metadata": {},
     "output_type": "execute_result"
    }
   ],
   "source": [
    "type(arr)"
   ]
  },
  {
   "cell_type": "code",
   "execution_count": 12,
   "id": "98ff3f37",
   "metadata": {},
   "outputs": [
    {
     "data": {
      "text/plain": [
       "'ndarray(shape, dtype=float, buffer=None, offset=0,\\n            strides=None, order=None)\\n\\n    An array object represents a multidimensional, homogeneous array\\n    of fixed-size items.  An associated data-type object describes the\\n    format of each element in the array (its byte-order, how many bytes it\\n    occupies in memory, whether it is an integer, a floating point number,\\n    or something else, etc.)\\n\\n    Arrays should be constructed using `array`, `zeros` or `empty` (refer\\n    to the See Also section below).  The parameters given here refer to\\n    a low-level method (`ndarray(...)`) for instantiating an array.\\n\\n    For more information, refer to the `numpy` module and examine the\\n    methods and attributes of an array.\\n\\n    Parameters\\n    ----------\\n    (for the __new__ method; see Notes below)\\n\\n    shape : tuple of ints\\n        Shape of created array.\\n    dtype : data-type, optional\\n        Any object that can be interpreted as a numpy data type.\\n    buffer : object exposing buffer interface, optional\\n        Used to fill the array with data.\\n    offset : int, optional\\n        Offset of array data in buffer.\\n    strides : tuple of ints, optional\\n        Strides of data in memory.\\n    order : {\\'C\\', \\'F\\'}, optional\\n        Row-major (C-style) or column-major (Fortran-style) order.\\n\\n    Attributes\\n    ----------\\n    T : ndarray\\n        Transpose of the array.\\n    data : buffer\\n        The array\\'s elements, in memory.\\n    dtype : dtype object\\n        Describes the format of the elements in the array.\\n    flags : dict\\n        Dictionary containing information related to memory use, e.g.,\\n        \\'C_CONTIGUOUS\\', \\'OWNDATA\\', \\'WRITEABLE\\', etc.\\n    flat : numpy.flatiter object\\n        Flattened version of the array as an iterator.  The iterator\\n        allows assignments, e.g., ``x.flat = 3`` (See `ndarray.flat` for\\n        assignment examples; TODO).\\n    imag : ndarray\\n        Imaginary part of the array.\\n    real : ndarray\\n        Real part of the array.\\n    size : int\\n        Number of elements in the array.\\n    itemsize : int\\n        The memory use of each array element in bytes.\\n    nbytes : int\\n        The total number of bytes required to store the array data,\\n        i.e., ``itemsize * size``.\\n    ndim : int\\n        The array\\'s number of dimensions.\\n    shape : tuple of ints\\n        Shape of the array.\\n    strides : tuple of ints\\n        The step-size required to move from one element to the next in\\n        memory. For example, a contiguous ``(3, 4)`` array of type\\n        ``int16`` in C-order has strides ``(8, 2)``.  This implies that\\n        to move from element to element in memory requires jumps of 2 bytes.\\n        To move from row-to-row, one needs to jump 8 bytes at a time\\n        (``2 * 4``).\\n    ctypes : ctypes object\\n        Class containing properties of the array needed for interaction\\n        with ctypes.\\n    base : ndarray\\n        If the array is a view into another array, that array is its `base`\\n        (unless that array is also a view).  The `base` array is where the\\n        array data is actually stored.\\n\\n    See Also\\n    --------\\n    array : Construct an array.\\n    zeros : Create an array, each element of which is zero.\\n    empty : Create an array, but leave its allocated memory unchanged (i.e.,\\n            it contains \"garbage\").\\n    dtype : Create a data-type.\\n    numpy.typing.NDArray : A :term:`generic <generic type>` version\\n                           of ndarray.\\n\\n    Notes\\n    -----\\n    There are two modes of creating an array using ``__new__``:\\n\\n    1. If `buffer` is None, then only `shape`, `dtype`, and `order`\\n       are used.\\n    2. If `buffer` is an object exposing the buffer interface, then\\n       all keywords are interpreted.\\n\\n    No ``__init__`` method is needed because the array is fully initialized\\n    after the ``__new__`` method.\\n\\n    Examples\\n    --------\\n    These examples illustrate the low-level `ndarray` constructor.  Refer\\n    to the `See Also` section above for easier ways of constructing an\\n    ndarray.\\n\\n    First mode, `buffer` is None:\\n\\n    >>> np.ndarray(shape=(2,2), dtype=float, order=\\'F\\')\\n    array([[0.0e+000, 0.0e+000], # random\\n           [     nan, 2.5e-323]])\\n\\n    Second mode:\\n\\n    >>> np.ndarray((2,), buffer=np.array([1,2,3]),\\n    ...            offset=np.int_().itemsize,\\n    ...            dtype=int) # offset = 1*itemsize, i.e. skip first element\\n    array([2, 3])'"
      ]
     },
     "execution_count": 12,
     "metadata": {},
     "output_type": "execute_result"
    }
   ],
   "source": [
    "arr.__doc__"
   ]
  },
  {
   "cell_type": "code",
   "execution_count": 13,
   "id": "859e48b2",
   "metadata": {},
   "outputs": [
    {
     "data": {
      "text/plain": [
       "1"
      ]
     },
     "execution_count": 13,
     "metadata": {},
     "output_type": "execute_result"
    }
   ],
   "source": [
    "arr.ndim"
   ]
  },
  {
   "cell_type": "code",
   "execution_count": 15,
   "id": "ee963af9",
   "metadata": {},
   "outputs": [
    {
     "data": {
      "text/plain": [
       "(8,)"
      ]
     },
     "execution_count": 15,
     "metadata": {},
     "output_type": "execute_result"
    }
   ],
   "source": [
    "arr.shape"
   ]
  },
  {
   "cell_type": "code",
   "execution_count": 19,
   "id": "4934ed6e",
   "metadata": {},
   "outputs": [],
   "source": [
    "arr1=np.array([[1,2,23,4],[1,2,3,4]])"
   ]
  },
  {
   "cell_type": "code",
   "execution_count": 20,
   "id": "c390c7d4",
   "metadata": {},
   "outputs": [
    {
     "data": {
      "text/plain": [
       "array([[ 1,  2, 23,  4],\n",
       "       [ 1,  2,  3,  4]])"
      ]
     },
     "execution_count": 20,
     "metadata": {},
     "output_type": "execute_result"
    }
   ],
   "source": [
    "arr1"
   ]
  },
  {
   "cell_type": "code",
   "execution_count": 24,
   "id": "9891c29b",
   "metadata": {},
   "outputs": [
    {
     "data": {
      "text/plain": [
       "2"
      ]
     },
     "execution_count": 24,
     "metadata": {},
     "output_type": "execute_result"
    }
   ],
   "source": [
    "arr1.ndim\n"
   ]
  },
  {
   "cell_type": "code",
   "execution_count": 25,
   "id": "d79f11aa",
   "metadata": {},
   "outputs": [
    {
     "data": {
      "text/plain": [
       "(2, 4)"
      ]
     },
     "execution_count": 25,
     "metadata": {},
     "output_type": "execute_result"
    }
   ],
   "source": [
    "arr1.shape"
   ]
  },
  {
   "cell_type": "code",
   "execution_count": 26,
   "id": "32619f9b",
   "metadata": {},
   "outputs": [
    {
     "data": {
      "text/plain": [
       "8"
      ]
     },
     "execution_count": 26,
     "metadata": {},
     "output_type": "execute_result"
    }
   ],
   "source": [
    "arr1.size"
   ]
  },
  {
   "cell_type": "code",
   "execution_count": 32,
   "id": "c7db586a",
   "metadata": {},
   "outputs": [],
   "source": [
    "arr2=np.array([[[7,8,9],[4,5,6],[1,2,3]]])"
   ]
  },
  {
   "cell_type": "code",
   "execution_count": 33,
   "id": "243209e8",
   "metadata": {},
   "outputs": [
    {
     "data": {
      "text/plain": [
       "array([[[7, 8, 9],\n",
       "        [4, 5, 6],\n",
       "        [1, 2, 3]]])"
      ]
     },
     "execution_count": 33,
     "metadata": {},
     "output_type": "execute_result"
    }
   ],
   "source": [
    "arr2"
   ]
  },
  {
   "cell_type": "code",
   "execution_count": 34,
   "id": "74c26102",
   "metadata": {},
   "outputs": [
    {
     "data": {
      "text/plain": [
       "3"
      ]
     },
     "execution_count": 34,
     "metadata": {},
     "output_type": "execute_result"
    }
   ],
   "source": [
    "arr2.ndim"
   ]
  },
  {
   "cell_type": "code",
   "execution_count": 35,
   "id": "a1237bce",
   "metadata": {},
   "outputs": [
    {
     "data": {
      "text/plain": [
       "(1, 3, 3)"
      ]
     },
     "execution_count": 35,
     "metadata": {},
     "output_type": "execute_result"
    }
   ],
   "source": [
    "arr2.shape"
   ]
  },
  {
   "cell_type": "code",
   "execution_count": 36,
   "id": "c5a07fcd",
   "metadata": {},
   "outputs": [
    {
     "data": {
      "text/plain": [
       "9"
      ]
     },
     "execution_count": 36,
     "metadata": {},
     "output_type": "execute_result"
    }
   ],
   "source": [
    "arr2.size"
   ]
  },
  {
   "cell_type": "code",
   "execution_count": 50,
   "id": "9f410a33",
   "metadata": {},
   "outputs": [
    {
     "data": {
      "text/plain": [
       "5"
      ]
     },
     "execution_count": 50,
     "metadata": {},
     "output_type": "execute_result"
    }
   ],
   "source": [
    "arr2[0][1][1]"
   ]
  },
  {
   "cell_type": "code",
   "execution_count": 66,
   "id": "d28d5173",
   "metadata": {},
   "outputs": [
    {
     "data": {
      "text/plain": [
       "5"
      ]
     },
     "execution_count": 66,
     "metadata": {},
     "output_type": "execute_result"
    }
   ],
   "source": [
    "arr2[0][1][1]"
   ]
  }
 ],
 "metadata": {
  "kernelspec": {
   "display_name": "Python 3 (ipykernel)",
   "language": "python",
   "name": "python3"
  },
  "language_info": {
   "codemirror_mode": {
    "name": "ipython",
    "version": 3
   },
   "file_extension": ".py",
   "mimetype": "text/x-python",
   "name": "python",
   "nbconvert_exporter": "python",
   "pygments_lexer": "ipython3",
   "version": "3.9.12"
  }
 },
 "nbformat": 4,
 "nbformat_minor": 5
}
